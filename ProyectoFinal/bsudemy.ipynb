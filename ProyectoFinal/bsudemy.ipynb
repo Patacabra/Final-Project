{
 "cells": [
  {
   "cell_type": "code",
   "execution_count": 42,
   "metadata": {},
   "outputs": [],
   "source": [
    "from bs4 import BeautifulSoup\n",
    "import requests\n",
    "response = requests.get(\"https://www.udemy.com/es/courses/business/?sort=newest\")\n",
    "html_soup = BeautifulSoup(response.content, 'html.parser')\n",
    "url = html_soup.find_all(href=True)"
   ]
  },
  {
   "cell_type": "code",
   "execution_count": 43,
   "metadata": {},
   "outputs": [],
   "source": [
    "def auto_Scrapper(html_tag,course_case):\n",
    "    for i in range(1, 10):\n",
    "        url = f\"https://www.udemy.com/es/courses/business/?p={i}&sort=newest\"\n",
    "        page = requests.get(url)\n",
    "        soup = BeautifulSoup(page.content, 'html.parser')\n",
    "        courses = soup.find_all(html_tag)\n",
    "        if not courses:\n",
    "            break\n",
    "        for course in courses:\n",
    "            course_case.append(course.get_text().strip())"
   ]
  },
  {
   "cell_type": "code",
   "execution_count": 44,
   "metadata": {},
   "outputs": [],
   "source": [
    "def auto_Scrapper_Class(html_tag, tag_class, course_case):\n",
    "    for i in range(1, 10):\n",
    "        url = f\"https://www.udemy.com/es/courses/business/?p={i}&sort=newest\"\n",
    "        page = requests.get(url)\n",
    "        soup = BeautifulSoup(page.content, 'html.parser')\n",
    "        courses = soup.find_all(html_tag, class_=tag_class)\n",
    "        if not courses:\n",
    "            break\n",
    "        for course in courses:\n",
    "            course_case.append(course.get_text().strip())"
   ]
  },
  {
   "cell_type": "code",
   "execution_count": 45,
   "metadata": {},
   "outputs": [],
   "source": [
    "course_title = []\n",
    "course_organization = []\n",
    "course_Certificate_type = []\n",
    "course_price = []\n",
    "course_difficulty = []\n",
    "course_students_enrolled = []\n",
    "course_rating = []\n",
    "course_description = []"
   ]
  },
  {
   "cell_type": "code",
   "execution_count": 46,
   "metadata": {},
   "outputs": [],
   "source": [
    "auto_Scrapper_Class('div','h3',course_title)"
   ]
  },
  {
   "cell_type": "code",
   "execution_count": 47,
   "metadata": {},
   "outputs": [
    {
     "data": {
      "text/plain": [
       "[]"
      ]
     },
     "execution_count": 47,
     "metadata": {},
     "output_type": "execute_result"
    }
   ],
   "source": [
    "course_title"
   ]
  },
  {
   "cell_type": "code",
   "execution_count": null,
   "metadata": {},
   "outputs": [],
   "source": []
  }
 ],
 "metadata": {
  "kernelspec": {
   "display_name": "base",
   "language": "python",
   "name": "python3"
  },
  "language_info": {
   "codemirror_mode": {
    "name": "ipython",
    "version": 3
   },
   "file_extension": ".py",
   "mimetype": "text/x-python",
   "name": "python",
   "nbconvert_exporter": "python",
   "pygments_lexer": "ipython3",
   "version": "3.9.13"
  },
  "orig_nbformat": 4,
  "vscode": {
   "interpreter": {
    "hash": "d2c4068c2c8c269a5988ea04b5d610d8f7e2ec4f0cfc78369f236380ffcfebe5"
   }
  }
 },
 "nbformat": 4,
 "nbformat_minor": 2
}
