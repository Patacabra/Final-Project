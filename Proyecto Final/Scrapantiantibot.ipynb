{
 "cells": [
  {
   "cell_type": "code",
   "execution_count": 1,
   "metadata": {},
   "outputs": [
    {
     "name": "stdout",
     "output_type": "stream",
     "text": [
      "Cursos en línea de negocios | Udemy\n"
     ]
    }
   ],
   "source": [
    "import time\n",
    "\n",
    "from undetected_chromedriver import Chrome, ChromeOptions\n",
    "from selenium.common.exceptions import WebDriverException\n",
    "from selenium.webdriver.remote.webdriver import By\n",
    "import selenium.webdriver.support.expected_conditions as EC  # noqa\n",
    "from selenium.webdriver.support.wait import WebDriverWait\n",
    "\n",
    "import undetected_chromedriver as uc\n",
    "options = ChromeOptions()\n",
    "#options.add_argument(\"--headless\")\n",
    "options.add_argument(\"--no-sandbox\")\n",
    "options.add_argument('--start-maximized')  \n",
    "options.add_argument(\"--disable-dev-shm-usage\")\n",
    "options.add_argument(\"--disable-extensions\")\n",
    "options.add_argument(\"--disable-gpu\")\n",
    "options.add_argument(\"--disable-setuid-sandbox\")\n",
    "options.add_argument(\"--disable-remote-fonts\")\n",
    "\n",
    "with Chrome(options=options) as driver:\n",
    "    driver.get(\"https://www.udemy.com/es/courses/business/?sort=newest\")\n",
    "    title = driver.title\n",
    "    print(title)\n",
    "\n"
   ]
  },
  {
   "cell_type": "code",
   "execution_count": 2,
   "metadata": {},
   "outputs": [],
   "source": [
    "cookies = driver.find_element(By.XPATH, '//*[@id=\"onetrust-accept-btn-handler\"]').click()"
   ]
  },
  {
   "cell_type": "code",
   "execution_count": 4,
   "metadata": {},
   "outputs": [],
   "source": [
    "from selenium.webdriver.common.by import By\n",
    "from selenium.webdriver.support.ui import WebDriverWait\n",
    "from selenium.webdriver.support import expected_conditions as EC\n",
    "\n",
    "def scrape_udemy_data(driver, course_title, course_organization, course_price, course_info):\n",
    "    page_number = 1\n",
    "    while page_number <= 23:\n",
    "        titles = [e.text for e in driver.find_elements(By.TAG_NAME, 'h3')]\n",
    "        if titles:\n",
    "            course_title.extend(titles)\n",
    "            time.sleep(3)\n",
    "\n",
    "        organizations = [e.text for e in driver.find_elements(By.CLASS_NAME, 'course-card--instructor-list--nH1OC')]\n",
    "        if organizations:\n",
    "            course_organization.extend(organizations)\n",
    "            time.sleep(3)\n",
    "\n",
    "        course_prices = [e.text for e in driver.find_elements(By.CLASS_NAME, 'price-text--container--103D9.course-card--price-text-container--XIYmk')]\n",
    "        if course_prices:\n",
    "            course_price.extend(course_prices)\n",
    "            time.sleep(3)\n",
    "\n",
    "        info = [e.text for e in driver.find_elements(By.CLASS_NAME, 'course-card--row--29Y0w')]\n",
    "        if info:\n",
    "            course_info.extend(info)\n",
    "            time.sleep(3)\n",
    "\n",
    "        # Build the URL for the next page\n",
    "        page_number += 1\n",
    "        next_page_url = \"https://www.udemy.com/es/courses/business/?p={}&sort=newest\".format(page_number)\n",
    "\n",
    "        # Navigate to the next page\n",
    "        driver.get(next_page_url)\n",
    "\n",
    "        # Wait for the next page to load\n",
    "        try:\n",
    "            WebDriverWait(driver, 40).until(EC.presence_of_element_located((By.TAG_NAME, 'h3')))\n",
    "        except:\n",
    "            print(\"Timeout: Failed to load the page.\")\n",
    "            break\n",
    "\n",
    "        time.sleep(3)\n"
   ]
  },
  {
   "cell_type": "code",
   "execution_count": 5,
   "metadata": {},
   "outputs": [
    {
     "ename": "TimeoutException",
     "evalue": "Message: timeout: Timed out receiving message from renderer: 299.499\n  (Session info: chrome=111.0.5563.64)\nStacktrace:\n0   undetected_chromedriver             0x0000000104994428 undetected_chromedriver + 4899880\n1   undetected_chromedriver             0x0000000104911a23 undetected_chromedriver + 4364835\n2   undetected_chromedriver             0x000000010455bbf6 undetected_chromedriver + 474102\n3   undetected_chromedriver             0x00000001045444d9 undetected_chromedriver + 378073\n4   undetected_chromedriver             0x000000010454408b undetected_chromedriver + 376971\n5   undetected_chromedriver             0x00000001045428ba undetected_chromedriver + 370874\n6   undetected_chromedriver             0x0000000104542dec undetected_chromedriver + 372204\n7   undetected_chromedriver             0x0000000104551b2c undetected_chromedriver + 432940\n8   undetected_chromedriver             0x0000000104552e32 undetected_chromedriver + 437810\n9   undetected_chromedriver             0x0000000104564794 undetected_chromedriver + 509844\n10  undetected_chromedriver             0x0000000104569dcb undetected_chromedriver + 531915\n11  undetected_chromedriver             0x0000000104543248 undetected_chromedriver + 373320\n12  undetected_chromedriver             0x00000001045645df undetected_chromedriver + 509407\n13  undetected_chromedriver             0x00000001045e0da4 undetected_chromedriver + 1019300\n14  undetected_chromedriver             0x00000001045c5333 undetected_chromedriver + 906035\n15  undetected_chromedriver             0x000000010458f55f undetected_chromedriver + 685407\n16  undetected_chromedriver             0x0000000104590a7e undetected_chromedriver + 690814\n17  undetected_chromedriver             0x000000010496179e undetected_chromedriver + 4691870\n18  undetected_chromedriver             0x0000000104966961 undetected_chromedriver + 4712801\n19  undetected_chromedriver             0x000000010496d2ff undetected_chromedriver + 4739839\n20  undetected_chromedriver             0x000000010496785a undetected_chromedriver + 4716634\n21  undetected_chromedriver             0x0000000104939fce undetected_chromedriver + 4530126\n22  undetected_chromedriver             0x00000001049875c8 undetected_chromedriver + 4847048\n23  undetected_chromedriver             0x0000000104987747 undetected_chromedriver + 4847431\n24  undetected_chromedriver             0x000000010499c87f undetected_chromedriver + 4933759\n25  libsystem_pthread.dylib             0x00007ff80a931259 _pthread_start + 125\n26  libsystem_pthread.dylib             0x00007ff80a92cc7b thread_start + 15\n",
     "output_type": "error",
     "traceback": [
      "\u001b[0;31m---------------------------------------------------------------------------\u001b[0m",
      "\u001b[0;31mTimeoutException\u001b[0m                          Traceback (most recent call last)",
      "\u001b[0;32m/var/folders/qc/t82_vk1d72zgwrn06427c8bc0000gn/T/ipykernel_53095/2348564860.py\u001b[0m in \u001b[0;36m<module>\u001b[0;34m\u001b[0m\n\u001b[1;32m      9\u001b[0m \u001b[0;34m\u001b[0m\u001b[0m\n\u001b[1;32m     10\u001b[0m \u001b[0;34m\u001b[0m\u001b[0m\n\u001b[0;32m---> 11\u001b[0;31m \u001b[0mscrape_udemy_data\u001b[0m\u001b[0;34m(\u001b[0m\u001b[0mdriver\u001b[0m\u001b[0;34m,\u001b[0m \u001b[0mcourse_title\u001b[0m\u001b[0;34m,\u001b[0m \u001b[0mcourse_organization\u001b[0m\u001b[0;34m,\u001b[0m\u001b[0mcourse_price\u001b[0m \u001b[0;34m,\u001b[0m \u001b[0mcourse_info\u001b[0m\u001b[0;34m)\u001b[0m\u001b[0;34m\u001b[0m\u001b[0;34m\u001b[0m\u001b[0m\n\u001b[0m",
      "\u001b[0;32m/var/folders/qc/t82_vk1d72zgwrn06427c8bc0000gn/T/ipykernel_53095/737752144.py\u001b[0m in \u001b[0;36mscrape_udemy_data\u001b[0;34m(driver, course_title, course_organization, course_price, course_info)\u001b[0m\n\u001b[1;32m     31\u001b[0m \u001b[0;34m\u001b[0m\u001b[0m\n\u001b[1;32m     32\u001b[0m         \u001b[0;31m# Navigate to the next page\u001b[0m\u001b[0;34m\u001b[0m\u001b[0;34m\u001b[0m\u001b[0m\n\u001b[0;32m---> 33\u001b[0;31m         \u001b[0mdriver\u001b[0m\u001b[0;34m.\u001b[0m\u001b[0mget\u001b[0m\u001b[0;34m(\u001b[0m\u001b[0mnext_page_url\u001b[0m\u001b[0;34m)\u001b[0m\u001b[0;34m\u001b[0m\u001b[0;34m\u001b[0m\u001b[0m\n\u001b[0m\u001b[1;32m     34\u001b[0m \u001b[0;34m\u001b[0m\u001b[0m\n\u001b[1;32m     35\u001b[0m         \u001b[0;31m# Wait for the next page to load\u001b[0m\u001b[0;34m\u001b[0m\u001b[0;34m\u001b[0m\u001b[0m\n",
      "\u001b[0;32m~/opt/anaconda3/lib/python3.9/site-packages/undetected_chromedriver/__init__.py\u001b[0m in \u001b[0;36mget\u001b[0;34m(self, url)\u001b[0m\n\u001b[1;32m    643\u001b[0m         \u001b[0;31m# if self._get_cdc_props():\u001b[0m\u001b[0;34m\u001b[0m\u001b[0;34m\u001b[0m\u001b[0m\n\u001b[1;32m    644\u001b[0m         \u001b[0;31m#     self._hook_remove_cdc_props()\u001b[0m\u001b[0;34m\u001b[0m\u001b[0;34m\u001b[0m\u001b[0m\n\u001b[0;32m--> 645\u001b[0;31m         \u001b[0;32mreturn\u001b[0m \u001b[0msuper\u001b[0m\u001b[0;34m(\u001b[0m\u001b[0;34m)\u001b[0m\u001b[0;34m.\u001b[0m\u001b[0mget\u001b[0m\u001b[0;34m(\u001b[0m\u001b[0murl\u001b[0m\u001b[0;34m)\u001b[0m\u001b[0;34m\u001b[0m\u001b[0;34m\u001b[0m\u001b[0m\n\u001b[0m\u001b[1;32m    646\u001b[0m \u001b[0;34m\u001b[0m\u001b[0m\n\u001b[1;32m    647\u001b[0m     \u001b[0;32mdef\u001b[0m \u001b[0madd_cdp_listener\u001b[0m\u001b[0;34m(\u001b[0m\u001b[0mself\u001b[0m\u001b[0;34m,\u001b[0m \u001b[0mevent_name\u001b[0m\u001b[0;34m,\u001b[0m \u001b[0mcallback\u001b[0m\u001b[0;34m)\u001b[0m\u001b[0;34m:\u001b[0m\u001b[0;34m\u001b[0m\u001b[0;34m\u001b[0m\u001b[0m\n",
      "\u001b[0;32m~/opt/anaconda3/lib/python3.9/site-packages/selenium/webdriver/remote/webdriver.py\u001b[0m in \u001b[0;36mget\u001b[0;34m(self, url)\u001b[0m\n\u001b[1;32m    447\u001b[0m     \u001b[0;32mdef\u001b[0m \u001b[0mget\u001b[0m\u001b[0;34m(\u001b[0m\u001b[0mself\u001b[0m\u001b[0;34m,\u001b[0m \u001b[0murl\u001b[0m\u001b[0;34m:\u001b[0m \u001b[0mstr\u001b[0m\u001b[0;34m)\u001b[0m \u001b[0;34m->\u001b[0m \u001b[0;32mNone\u001b[0m\u001b[0;34m:\u001b[0m\u001b[0;34m\u001b[0m\u001b[0;34m\u001b[0m\u001b[0m\n\u001b[1;32m    448\u001b[0m         \u001b[0;34m\"\"\"Loads a web page in the current browser session.\"\"\"\u001b[0m\u001b[0;34m\u001b[0m\u001b[0;34m\u001b[0m\u001b[0m\n\u001b[0;32m--> 449\u001b[0;31m         \u001b[0mself\u001b[0m\u001b[0;34m.\u001b[0m\u001b[0mexecute\u001b[0m\u001b[0;34m(\u001b[0m\u001b[0mCommand\u001b[0m\u001b[0;34m.\u001b[0m\u001b[0mGET\u001b[0m\u001b[0;34m,\u001b[0m \u001b[0;34m{\u001b[0m\u001b[0;34m\"url\"\u001b[0m\u001b[0;34m:\u001b[0m \u001b[0murl\u001b[0m\u001b[0;34m}\u001b[0m\u001b[0;34m)\u001b[0m\u001b[0;34m\u001b[0m\u001b[0;34m\u001b[0m\u001b[0m\n\u001b[0m\u001b[1;32m    450\u001b[0m \u001b[0;34m\u001b[0m\u001b[0m\n\u001b[1;32m    451\u001b[0m     \u001b[0;34m@\u001b[0m\u001b[0mproperty\u001b[0m\u001b[0;34m\u001b[0m\u001b[0;34m\u001b[0m\u001b[0m\n",
      "\u001b[0;32m~/opt/anaconda3/lib/python3.9/site-packages/selenium/webdriver/remote/webdriver.py\u001b[0m in \u001b[0;36mexecute\u001b[0;34m(self, driver_command, params)\u001b[0m\n\u001b[1;32m    438\u001b[0m         \u001b[0mresponse\u001b[0m \u001b[0;34m=\u001b[0m \u001b[0mself\u001b[0m\u001b[0;34m.\u001b[0m\u001b[0mcommand_executor\u001b[0m\u001b[0;34m.\u001b[0m\u001b[0mexecute\u001b[0m\u001b[0;34m(\u001b[0m\u001b[0mdriver_command\u001b[0m\u001b[0;34m,\u001b[0m \u001b[0mparams\u001b[0m\u001b[0;34m)\u001b[0m\u001b[0;34m\u001b[0m\u001b[0;34m\u001b[0m\u001b[0m\n\u001b[1;32m    439\u001b[0m         \u001b[0;32mif\u001b[0m \u001b[0mresponse\u001b[0m\u001b[0;34m:\u001b[0m\u001b[0;34m\u001b[0m\u001b[0;34m\u001b[0m\u001b[0m\n\u001b[0;32m--> 440\u001b[0;31m             \u001b[0mself\u001b[0m\u001b[0;34m.\u001b[0m\u001b[0merror_handler\u001b[0m\u001b[0;34m.\u001b[0m\u001b[0mcheck_response\u001b[0m\u001b[0;34m(\u001b[0m\u001b[0mresponse\u001b[0m\u001b[0;34m)\u001b[0m\u001b[0;34m\u001b[0m\u001b[0;34m\u001b[0m\u001b[0m\n\u001b[0m\u001b[1;32m    441\u001b[0m             \u001b[0mresponse\u001b[0m\u001b[0;34m[\u001b[0m\u001b[0;34m\"value\"\u001b[0m\u001b[0;34m]\u001b[0m \u001b[0;34m=\u001b[0m \u001b[0mself\u001b[0m\u001b[0;34m.\u001b[0m\u001b[0m_unwrap_value\u001b[0m\u001b[0;34m(\u001b[0m\u001b[0mresponse\u001b[0m\u001b[0;34m.\u001b[0m\u001b[0mget\u001b[0m\u001b[0;34m(\u001b[0m\u001b[0;34m\"value\"\u001b[0m\u001b[0;34m,\u001b[0m \u001b[0;32mNone\u001b[0m\u001b[0;34m)\u001b[0m\u001b[0;34m)\u001b[0m\u001b[0;34m\u001b[0m\u001b[0;34m\u001b[0m\u001b[0m\n\u001b[1;32m    442\u001b[0m             \u001b[0;32mreturn\u001b[0m \u001b[0mresponse\u001b[0m\u001b[0;34m\u001b[0m\u001b[0;34m\u001b[0m\u001b[0m\n",
      "\u001b[0;32m~/opt/anaconda3/lib/python3.9/site-packages/selenium/webdriver/remote/errorhandler.py\u001b[0m in \u001b[0;36mcheck_response\u001b[0;34m(self, response)\u001b[0m\n\u001b[1;32m    243\u001b[0m                 \u001b[0malert_text\u001b[0m \u001b[0;34m=\u001b[0m \u001b[0mvalue\u001b[0m\u001b[0;34m[\u001b[0m\u001b[0;34m\"alert\"\u001b[0m\u001b[0;34m]\u001b[0m\u001b[0;34m.\u001b[0m\u001b[0mget\u001b[0m\u001b[0;34m(\u001b[0m\u001b[0;34m\"text\"\u001b[0m\u001b[0;34m)\u001b[0m\u001b[0;34m\u001b[0m\u001b[0;34m\u001b[0m\u001b[0m\n\u001b[1;32m    244\u001b[0m             \u001b[0;32mraise\u001b[0m \u001b[0mexception_class\u001b[0m\u001b[0;34m(\u001b[0m\u001b[0mmessage\u001b[0m\u001b[0;34m,\u001b[0m \u001b[0mscreen\u001b[0m\u001b[0;34m,\u001b[0m \u001b[0mstacktrace\u001b[0m\u001b[0;34m,\u001b[0m \u001b[0malert_text\u001b[0m\u001b[0;34m)\u001b[0m  \u001b[0;31m# type: ignore[call-arg]  # mypy is not smart enough here\u001b[0m\u001b[0;34m\u001b[0m\u001b[0;34m\u001b[0m\u001b[0m\n\u001b[0;32m--> 245\u001b[0;31m         \u001b[0;32mraise\u001b[0m \u001b[0mexception_class\u001b[0m\u001b[0;34m(\u001b[0m\u001b[0mmessage\u001b[0m\u001b[0;34m,\u001b[0m \u001b[0mscreen\u001b[0m\u001b[0;34m,\u001b[0m \u001b[0mstacktrace\u001b[0m\u001b[0;34m)\u001b[0m\u001b[0;34m\u001b[0m\u001b[0;34m\u001b[0m\u001b[0m\n\u001b[0m",
      "\u001b[0;31mTimeoutException\u001b[0m: Message: timeout: Timed out receiving message from renderer: 299.499\n  (Session info: chrome=111.0.5563.64)\nStacktrace:\n0   undetected_chromedriver             0x0000000104994428 undetected_chromedriver + 4899880\n1   undetected_chromedriver             0x0000000104911a23 undetected_chromedriver + 4364835\n2   undetected_chromedriver             0x000000010455bbf6 undetected_chromedriver + 474102\n3   undetected_chromedriver             0x00000001045444d9 undetected_chromedriver + 378073\n4   undetected_chromedriver             0x000000010454408b undetected_chromedriver + 376971\n5   undetected_chromedriver             0x00000001045428ba undetected_chromedriver + 370874\n6   undetected_chromedriver             0x0000000104542dec undetected_chromedriver + 372204\n7   undetected_chromedriver             0x0000000104551b2c undetected_chromedriver + 432940\n8   undetected_chromedriver             0x0000000104552e32 undetected_chromedriver + 437810\n9   undetected_chromedriver             0x0000000104564794 undetected_chromedriver + 509844\n10  undetected_chromedriver             0x0000000104569dcb undetected_chromedriver + 531915\n11  undetected_chromedriver             0x0000000104543248 undetected_chromedriver + 373320\n12  undetected_chromedriver             0x00000001045645df undetected_chromedriver + 509407\n13  undetected_chromedriver             0x00000001045e0da4 undetected_chromedriver + 1019300\n14  undetected_chromedriver             0x00000001045c5333 undetected_chromedriver + 906035\n15  undetected_chromedriver             0x000000010458f55f undetected_chromedriver + 685407\n16  undetected_chromedriver             0x0000000104590a7e undetected_chromedriver + 690814\n17  undetected_chromedriver             0x000000010496179e undetected_chromedriver + 4691870\n18  undetected_chromedriver             0x0000000104966961 undetected_chromedriver + 4712801\n19  undetected_chromedriver             0x000000010496d2ff undetected_chromedriver + 4739839\n20  undetected_chromedriver             0x000000010496785a undetected_chromedriver + 4716634\n21  undetected_chromedriver             0x0000000104939fce undetected_chromedriver + 4530126\n22  undetected_chromedriver             0x00000001049875c8 undetected_chromedriver + 4847048\n23  undetected_chromedriver             0x0000000104987747 undetected_chromedriver + 4847431\n24  undetected_chromedriver             0x000000010499c87f undetected_chromedriver + 4933759\n25  libsystem_pthread.dylib             0x00007ff80a931259 _pthread_start + 125\n26  libsystem_pthread.dylib             0x00007ff80a92cc7b thread_start + 15\n"
     ]
    }
   ],
   "source": [
    "course_title = []\n",
    "course_organization = []\n",
    "course_Certificate_type = []\n",
    "course_price = []\n",
    "course_difficulty = []\n",
    "course_students_enrolled = []\n",
    "course_info = []\n",
    "course_description = []\n",
    "\n",
    "\n",
    "scrape_udemy_data(driver, course_title, course_organization,course_price , course_info)"
   ]
  },
  {
   "cell_type": "code",
   "execution_count": 9,
   "metadata": {},
   "outputs": [
    {
     "data": {
      "text/plain": [
       "2155"
      ]
     },
     "execution_count": 9,
     "metadata": {},
     "output_type": "execute_result"
    }
   ],
   "source": [
    "len(course_info)"
   ]
  },
  {
   "cell_type": "code",
   "execution_count": null,
   "metadata": {},
   "outputs": [],
   "source": [
    "new_title = list(filter(lambda x: x != '', course_title1))\n",
    "new_title\n",
    "\n",
    "---\n",
    "\n",
    "conteos = {}\n",
    "for elemento in new_title:\n",
    "    if elemento in conteos:\n",
    "        conteos[elemento] += 1\n",
    "    else:\n",
    "        conteos[elemento] = 1\n",
    "\n",
    "# Creamos una lista con los elementos que aparecen una sola vez\n",
    "elementos_unicos = []\n",
    "for elemento, conteo in conteos.items():\n",
    "    if conteo == 1:\n",
    "        elementos_unicos.append(elemento)\n",
    "\n",
    "print(elementos_unicos)[8]\n",
    "\n",
    "\n",
    "---\n",
    "new_organization = list(filter(lambda x: x != '', course_organization1))\n",
    "new_organization\n",
    "\n",
    "\n",
    "----\n",
    "\n",
    "new_price = list(filter(lambda x: x != '', course_price1))\n",
    "new_price[5:]\n",
    "\n",
    "---\n",
    "\n",
    "for i in range(len(course_info1)):\n",
    "    if 'Calificación' and 'total' in course_info1[i]:\n",
    "        course_info1[i] = course_info1[i].replace('\\n', '')\n",
    "        \n",
    "---\n",
    "\n",
    "resultado = []\n",
    "termino_en_total = False\n",
    "\n",
    "for i in range(len(course_info1)):\n",
    "    if 'en total' in course_info1[i]:\n",
    "        if not termino_en_total:\n",
    "            resultado.append(course_info1[i])\n",
    "            termino_en_total = True\n",
    "    else:\n",
    "        termino_en_total = False\n",
    "\n",
    "resultado\n",
    "\n",
    "\n",
    "----\n",
    "\n",
    "\n",
    "dat = {'Title': unique_title, 'Organization': new_organization2, 'Price': new_price2, 'Info': resultado2}\n",
    "\n",
    "df2 = pd.DataFrame(dat)\n",
    "\n",
    "df2.head(10)\n"
   ]
  },
  {
   "cell_type": "code",
   "execution_count": null,
   "metadata": {},
   "outputs": [],
   "source": [
    "len(elementos_unicos4)\n",
    "len(new_organization4)\n",
    "len(new_price4)\n",
    "resultado4"
   ]
  }
 ],
 "metadata": {
  "kernelspec": {
   "display_name": "base",
   "language": "python",
   "name": "python3"
  },
  "language_info": {
   "codemirror_mode": {
    "name": "ipython",
    "version": 3
   },
   "file_extension": ".py",
   "mimetype": "text/x-python",
   "name": "python",
   "nbconvert_exporter": "python",
   "pygments_lexer": "ipython3",
   "version": "3.9.13"
  },
  "orig_nbformat": 4,
  "vscode": {
   "interpreter": {
    "hash": "d2c4068c2c8c269a5988ea04b5d610d8f7e2ec4f0cfc78369f236380ffcfebe5"
   }
  }
 },
 "nbformat": 4,
 "nbformat_minor": 2
}
